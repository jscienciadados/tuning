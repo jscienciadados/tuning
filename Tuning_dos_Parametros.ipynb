{
  "nbformat": 4,
  "nbformat_minor": 0,
  "metadata": {
    "colab": {
      "name": "Tuning-dos-Parametros.ipynb",
      "provenance": [],
      "authorship_tag": "ABX9TyOBWh8b5ogWBYp1UfkTZYE4",
      "include_colab_link": true
    },
    "kernelspec": {
      "name": "python3",
      "display_name": "Python 3"
    },
    "language_info": {
      "name": "python"
    }
  },
  "cells": [
    {
      "cell_type": "markdown",
      "metadata": {
        "id": "view-in-github",
        "colab_type": "text"
      },
      "source": [
        "<a href=\"https://colab.research.google.com/github/jscienciadados/tuning/blob/main/Tuning_dos_Parametros.ipynb\" target=\"_parent\"><img src=\"https://colab.research.google.com/assets/colab-badge.svg\" alt=\"Open In Colab\"/></a>"
      ]
    },
    {
      "cell_type": "markdown",
      "metadata": {
        "id": "CAlZQsX4FzFR"
      },
      "source": [
        "##Tunning dos Parâmetros com GridSearch"
      ]
    },
    {
      "cell_type": "markdown",
      "metadata": {
        "id": "KfVBUn0pF6r7"
      },
      "source": [
        "# Preparação dos Dados"
      ]
    },
    {
      "cell_type": "code",
      "metadata": {
        "id": "bsrxsQARFrUa"
      },
      "source": [
        "from sklearn.model_selection import GridSearchCV\n",
        "from sklearn.tree import DecisionTreeClassifier\n",
        "from sklearn.ensemble import RandomForestClassifier\n",
        "from sklearn.neighbors import KNeighborsClassifier\n",
        "from sklearn.linear_model import LogisticRegression\n",
        "from sklearn.svm import SVC\n",
        "from sklearn.neural_network import MLPClassifier"
      ],
      "execution_count": null,
      "outputs": []
    },
    {
      "cell_type": "code",
      "metadata": {
        "id": "4A06lZm2G3CD"
      },
      "source": [
        "import pickle\n",
        "with open('/content/credit.pkl', 'rb') as f:\n",
        "  X_credit_treinamento, y_credit_treinamento, X_credit_teste, y_credit_teste = pickle.load(f)"
      ],
      "execution_count": null,
      "outputs": []
    },
    {
      "cell_type": "code",
      "metadata": {
        "colab": {
          "base_uri": "https://localhost:8080/"
        },
        "id": "4TeBPuH0HvOk",
        "outputId": "ce5391ef-fbdf-40b8-f5af-5deff905fb9a"
      },
      "source": [
        "print(X_credit_treinamento.shape, '-----', y_credit_treinamento.shape)\n",
        "print('----------------------------------------------------------------')\n",
        "print(X_credit_teste.shape, '---------', y_credit_teste.shape)"
      ],
      "execution_count": null,
      "outputs": [
        {
          "output_type": "stream",
          "text": [
            "(1500, 3) ----- (1500,)\n",
            "----------------------------------------------------------------\n",
            "(500, 3) --------- (500,)\n"
          ],
          "name": "stdout"
        }
      ]
    },
    {
      "cell_type": "markdown",
      "metadata": {
        "id": "purpGTZJIc1x"
      },
      "source": [
        "Concatenando as bases de dados"
      ]
    },
    {
      "cell_type": "code",
      "metadata": {
        "id": "NCWIGdM9Im9n"
      },
      "source": [
        "import pandas as pd\n",
        "import numpy as np\n",
        "import matplotlib.pyplot as plt\n"
      ],
      "execution_count": null,
      "outputs": []
    },
    {
      "cell_type": "code",
      "metadata": {
        "colab": {
          "base_uri": "https://localhost:8080/"
        },
        "id": "oGk2O1NSIMSN",
        "outputId": "6fb13dc4-6082-4cfc-abb8-f53a85046150"
      },
      "source": [
        "X_credit = np.concatenate((X_credit_treinamento, X_credit_teste), axis = 0)\n",
        "X_credit.shape"
      ],
      "execution_count": null,
      "outputs": [
        {
          "output_type": "execute_result",
          "data": {
            "text/plain": [
              "(2000, 3)"
            ]
          },
          "metadata": {},
          "execution_count": 4
        }
      ]
    },
    {
      "cell_type": "code",
      "metadata": {
        "colab": {
          "base_uri": "https://localhost:8080/"
        },
        "id": "bB6rkd0lI_1D",
        "outputId": "31909008-73c5-49fc-d7ce-025040954bf7"
      },
      "source": [
        "X_credit"
      ],
      "execution_count": null,
      "outputs": [
        {
          "output_type": "execute_result",
          "data": {
            "text/plain": [
              "array([[-1.3754462 ,  0.50631087,  0.10980934],\n",
              "       [ 1.45826409, -1.6489393 , -1.21501497],\n",
              "       [-0.79356829,  0.22531191, -0.43370226],\n",
              "       ...,\n",
              "       [ 1.37445674, -1.05746281, -1.12564819],\n",
              "       [-1.57087737, -0.63488173, -0.36981671],\n",
              "       [-1.03572293, -0.93978122,  0.04244312]])"
            ]
          },
          "metadata": {},
          "execution_count": 7
        }
      ]
    },
    {
      "cell_type": "code",
      "metadata": {
        "colab": {
          "base_uri": "https://localhost:8080/"
        },
        "id": "9qc8cgxGJChp",
        "outputId": "4bc47347-ccfe-44c6-8b60-2f6e2200570a"
      },
      "source": [
        "y_credit = np.concatenate((y_credit_treinamento, y_credit_teste), axis = 0)\n",
        "y_credit.shape"
      ],
      "execution_count": null,
      "outputs": [
        {
          "output_type": "execute_result",
          "data": {
            "text/plain": [
              "(2000,)"
            ]
          },
          "metadata": {},
          "execution_count": 5
        }
      ]
    },
    {
      "cell_type": "code",
      "metadata": {
        "colab": {
          "base_uri": "https://localhost:8080/"
        },
        "id": "bkDBLBJSJU5d",
        "outputId": "0ce553c7-2c34-46aa-eae5-3c918ead9f93"
      },
      "source": [
        "y_credit"
      ],
      "execution_count": null,
      "outputs": [
        {
          "output_type": "execute_result",
          "data": {
            "text/plain": [
              "array([0, 0, 0, ..., 0, 1, 1])"
            ]
          },
          "metadata": {},
          "execution_count": 9
        }
      ]
    },
    {
      "cell_type": "markdown",
      "metadata": {
        "id": "uG8z9dVGJjrA"
      },
      "source": [
        "# Arvore de Decisão"
      ]
    },
    {
      "cell_type": "code",
      "metadata": {
        "id": "Yn8m_fr4JZjV"
      },
      "source": [
        "parametros = {'criterion': ['gini', 'entropy'],\n",
        "              'splitter': ['best', 'random'],\n",
        "              'min_samples_split': [2, 5, 10],\n",
        "              'min_samples_leaf': [1, 5, 10]}\n"
      ],
      "execution_count": null,
      "outputs": []
    },
    {
      "cell_type": "code",
      "metadata": {
        "colab": {
          "base_uri": "https://localhost:8080/"
        },
        "id": "8fIp_y7kKyoE",
        "outputId": "40830ad6-f6cf-4fad-a930-09086a7717d9"
      },
      "source": [
        "grid_search = GridSearchCV(estimator=DecisionTreeClassifier(), param_grid=parametros)\n",
        "grid_search.fit(X_credit, y_credit)\n",
        "melhores_parametros = grid_search.best_params_\n",
        "melhor_resultado = grid_search.best_score_\n",
        "print(melhores_parametros)\n",
        "print(melhor_resultado)"
      ],
      "execution_count": null,
      "outputs": [
        {
          "output_type": "stream",
          "text": [
            "{'criterion': 'entropy', 'min_samples_leaf': 1, 'min_samples_split': 5, 'splitter': 'best'}\n",
            "0.983\n"
          ],
          "name": "stdout"
        }
      ]
    },
    {
      "cell_type": "markdown",
      "metadata": {
        "id": "c9SA-3x3O9FG"
      },
      "source": [
        "# Random Forest"
      ]
    },
    {
      "cell_type": "code",
      "metadata": {
        "id": "NN05h2ANL99Q"
      },
      "source": [
        "parametros = {'criterion': ['gini', 'entropy'],\n",
        "              'n_estimators': [10, 40, 100, 150],\n",
        "              'min_samples_split': [2, 5, 10],\n",
        "              'min_samples_leaf': [1, 5, 10]}"
      ],
      "execution_count": null,
      "outputs": []
    },
    {
      "cell_type": "code",
      "metadata": {
        "colab": {
          "base_uri": "https://localhost:8080/"
        },
        "id": "0ihSNVUjPCVR",
        "outputId": "eea92dc3-5865-4fb6-9a7b-e9ef09b949c0"
      },
      "source": [
        "grid_search = GridSearchCV(estimator=RandomForestClassifier(), param_grid=parametros)\n",
        "grid_search.fit(X_credit, y_credit)\n",
        "melhores_parametros = grid_search.best_params_\n",
        "melhor_resultado = grid_search.best_score_\n",
        "print(melhores_parametros)\n",
        "print(melhor_resultado)"
      ],
      "execution_count": null,
      "outputs": [
        {
          "output_type": "stream",
          "text": [
            "{'criterion': 'entropy', 'min_samples_leaf': 1, 'min_samples_split': 2, 'n_estimators': 150}\n",
            "0.9860000000000001\n"
          ],
          "name": "stdout"
        }
      ]
    },
    {
      "cell_type": "markdown",
      "metadata": {
        "id": "hW8Uw9eVPyx_"
      },
      "source": [
        "# Knn"
      ]
    },
    {
      "cell_type": "code",
      "metadata": {
        "id": "Bh8L24XcPMJj"
      },
      "source": [
        "parametros = {'n_neighbors': [3, 5, 10, 20],\n",
        "              'p': [1, 2]}"
      ],
      "execution_count": null,
      "outputs": []
    },
    {
      "cell_type": "code",
      "metadata": {
        "colab": {
          "base_uri": "https://localhost:8080/"
        },
        "id": "FCgl6Cy9P1rV",
        "outputId": "ae7e69fd-5ceb-45e2-97a9-54079c2bf7ee"
      },
      "source": [
        "grid_search = GridSearchCV(estimator=KNeighborsClassifier(), param_grid=parametros)\n",
        "grid_search.fit(X_credit, y_credit)\n",
        "melhores_parametros = grid_search.best_params_\n",
        "melhor_resultado = grid_search.best_score_\n",
        "print(melhores_parametros)\n",
        "print(melhor_resultado)"
      ],
      "execution_count": null,
      "outputs": [
        {
          "output_type": "stream",
          "text": [
            "{'n_neighbors': 20, 'p': 1}\n",
            "0.9800000000000001\n"
          ],
          "name": "stdout"
        }
      ]
    },
    {
      "cell_type": "markdown",
      "metadata": {
        "id": "gb2ciTwkQHK2"
      },
      "source": [
        "# Regressão Logistica"
      ]
    },
    {
      "cell_type": "code",
      "metadata": {
        "id": "1WJr-VKkP6If"
      },
      "source": [
        "parametros = {'tol': [0.0001, 0.00001, 0.000001],\n",
        "              'C': [1.0, 1.5, 2.0],\n",
        "              'solver': ['lbfgs', 'sag', 'saga']}"
      ],
      "execution_count": null,
      "outputs": []
    },
    {
      "cell_type": "code",
      "metadata": {
        "colab": {
          "base_uri": "https://localhost:8080/"
        },
        "id": "aOzBf7mqQsFP",
        "outputId": "f7ba35de-61e5-4732-9777-8d356e420555"
      },
      "source": [
        "grid_search = GridSearchCV(estimator=LogisticRegression(), param_grid=parametros)\n",
        "grid_search.fit(X_credit, y_credit)\n",
        "melhores_parametros = grid_search.best_params_\n",
        "melhor_resultado = grid_search.best_score_\n",
        "print(melhores_parametros)\n",
        "print(melhor_resultado)"
      ],
      "execution_count": null,
      "outputs": [
        {
          "output_type": "stream",
          "text": [
            "{'C': 1.0, 'solver': 'lbfgs', 'tol': 0.0001}\n",
            "0.9484999999999999\n"
          ],
          "name": "stdout"
        }
      ]
    },
    {
      "cell_type": "markdown",
      "metadata": {
        "id": "GCv6Gvr_Q2iG"
      },
      "source": [
        "# SVM"
      ]
    },
    {
      "cell_type": "code",
      "metadata": {
        "id": "z_08zcNRQwVh"
      },
      "source": [
        "parametros = {'tol': [0.001, 0.0001, 0.00001],\n",
        "              'C': [1.0, 1.5, 2.0],\n",
        "              'kernel': ['rbf', 'linear', 'poly', 'sigmoid']}\n"
      ],
      "execution_count": null,
      "outputs": []
    },
    {
      "cell_type": "code",
      "metadata": {
        "colab": {
          "base_uri": "https://localhost:8080/"
        },
        "id": "fprvS3HERPgx",
        "outputId": "e9547771-0838-4785-b72f-52cfc7b73b13"
      },
      "source": [
        "grid_search = GridSearchCV(estimator=SVC(), param_grid=parametros)\n",
        "grid_search.fit(X_credit, y_credit)\n",
        "melhores_parametros = grid_search.best_params_\n",
        "melhor_resultado = grid_search.best_score_\n",
        "print(melhores_parametros)\n",
        "print(melhor_resultado)"
      ],
      "execution_count": null,
      "outputs": [
        {
          "output_type": "stream",
          "text": [
            "{'C': 1.5, 'kernel': 'rbf', 'tol': 0.001}\n",
            "0.9829999999999999\n"
          ],
          "name": "stdout"
        }
      ]
    },
    {
      "cell_type": "markdown",
      "metadata": {
        "id": "RGkzeI18RZO_"
      },
      "source": [
        "# Redes Neurais"
      ]
    },
    {
      "cell_type": "code",
      "metadata": {
        "id": "_9Mpur_qRTyX"
      },
      "source": [
        "parametros = {'activation': ['relu', 'logistic', 'tahn'],\n",
        "              'solver': ['adam', 'sgd'],\n",
        "              'batch_size': [10, 56]}\n"
      ],
      "execution_count": null,
      "outputs": []
    },
    {
      "cell_type": "code",
      "metadata": {
        "id": "oGOV3qeuR0D-"
      },
      "source": [
        "grid_search = GridSearchCV(estimator=MLPClassifier(), param_grid=parametros)\n",
        "grid_search.fit(X_credit, y_credit)\n",
        "melhores_parametros = grid_search.best_params_\n",
        "melhor_resultado = grid_search.best_score_\n"
      ],
      "execution_count": null,
      "outputs": []
    },
    {
      "cell_type": "code",
      "metadata": {
        "colab": {
          "base_uri": "https://localhost:8080/"
        },
        "id": "pf1zmsyWR4WX",
        "outputId": "ad850a90-4991-4845-a127-5b0b5ba6a8a8"
      },
      "source": [
        "print(melhores_parametros)\n",
        "print(melhor_resultado)"
      ],
      "execution_count": null,
      "outputs": [
        {
          "output_type": "stream",
          "text": [
            "{'activation': 'relu', 'batch_size': 56, 'solver': 'adam'}\n",
            "0.9964999999999999\n"
          ],
          "name": "stdout"
        }
      ]
    },
    {
      "cell_type": "markdown",
      "metadata": {
        "id": "7o_1FyziS1fR"
      },
      "source": [
        "##Validação Cruzada"
      ]
    },
    {
      "cell_type": "code",
      "metadata": {
        "id": "87BY5jHlStoS"
      },
      "source": [
        "from sklearn.model_selection import cross_val_score, KFold"
      ],
      "execution_count": null,
      "outputs": []
    },
    {
      "cell_type": "code",
      "metadata": {
        "id": "YKAqpfdpTUxz"
      },
      "source": [
        "resultados_arvore = []\n",
        "resultados_random_forest = []\n",
        "resultados_knn = []\n",
        "resultados_logistica = []\n",
        "resultados_svm = []\n",
        "resultados_rede_neural = []\n",
        "\n",
        "for i in range(30):\n",
        "  #print(i)\n",
        "  kfold = KFold(n_splits=10, shuffle=True, random_state=i)\n",
        "\n",
        "  arvore = DecisionTreeClassifier(criterion='entropy', min_samples_leaf=1, min_samples_split=5, splitter='best')\n",
        "  scores = cross_val_score(arvore, X_credit, y_credit, cv = kfold)\n",
        "  #print(scores)\n",
        "  #print(scores.mean())\n",
        "  resultados_arvore.append(scores.mean())\n",
        "\n",
        "  random_forest = RandomForestClassifier(criterion = 'entropy', min_samples_leaf = 1, min_samples_split=5, n_estimators = 10)\n",
        "  scores = cross_val_score(random_forest, X_credit, y_credit, cv = kfold)\n",
        "  resultados_random_forest.append(scores.mean())\n",
        "\n",
        "  knn = KNeighborsClassifier()\n",
        "  scores = cross_val_score(knn, X_credit, y_credit, cv = kfold)\n",
        "  resultados_knn.append(scores.mean())\n",
        "\n",
        "  logistica = LogisticRegression(C = 1.0, solver = 'lbfgs', tol = 0.0001)\n",
        "  scores = cross_val_score(logistica, X_credit, y_credit, cv = kfold)\n",
        "  resultados_logistica.append(scores.mean())\n",
        "\n",
        "  svm = SVC(kernel = 'rbf', C = 2.0)\n",
        "  scores = cross_val_score(svm, X_credit, y_credit, cv = kfold)\n",
        "  resultados_svm.append(scores.mean())\n",
        "\n",
        "  rede_neural = MLPClassifier(activation = 'relu', batch_size = 56, solver = 'adam')\n",
        "  scores = cross_val_score(rede_neural, X_credit, y_credit, cv = kfold)\n",
        "  resultados_rede_neural.append(scores.mean())\n"
      ],
      "execution_count": null,
      "outputs": []
    },
    {
      "cell_type": "markdown",
      "metadata": {
        "id": "yPh4bomAX0iq"
      },
      "source": [
        "# Visualizando os Resultados"
      ]
    },
    {
      "cell_type": "code",
      "metadata": {
        "colab": {
          "base_uri": "https://localhost:8080/",
          "height": 979
        },
        "id": "O3RPm_EaUgvw",
        "outputId": "563944fa-9944-4f34-83cf-4626ad4c76a3"
      },
      "source": [
        "resultados = pd.DataFrame({'Arvore': resultados_arvore, 'Random forest': resultados_random_forest,\n",
        "                           'KNN': resultados_knn, 'Logistica': resultados_logistica,\n",
        "                           'SVM': resultados_svm, 'Rede neural': resultados_rede_neural})\n",
        "resultados"
      ],
      "execution_count": null,
      "outputs": [
        {
          "output_type": "execute_result",
          "data": {
            "text/html": [
              "<div>\n",
              "<style scoped>\n",
              "    .dataframe tbody tr th:only-of-type {\n",
              "        vertical-align: middle;\n",
              "    }\n",
              "\n",
              "    .dataframe tbody tr th {\n",
              "        vertical-align: top;\n",
              "    }\n",
              "\n",
              "    .dataframe thead th {\n",
              "        text-align: right;\n",
              "    }\n",
              "</style>\n",
              "<table border=\"1\" class=\"dataframe\">\n",
              "  <thead>\n",
              "    <tr style=\"text-align: right;\">\n",
              "      <th></th>\n",
              "      <th>Arvore</th>\n",
              "      <th>Random forest</th>\n",
              "      <th>KNN</th>\n",
              "      <th>Logistica</th>\n",
              "      <th>SVM</th>\n",
              "      <th>Rede neural</th>\n",
              "    </tr>\n",
              "  </thead>\n",
              "  <tbody>\n",
              "    <tr>\n",
              "      <th>0</th>\n",
              "      <td>0.9860</td>\n",
              "      <td>0.9840</td>\n",
              "      <td>0.9815</td>\n",
              "      <td>0.9475</td>\n",
              "      <td>0.9845</td>\n",
              "      <td>0.9965</td>\n",
              "    </tr>\n",
              "    <tr>\n",
              "      <th>1</th>\n",
              "      <td>0.9850</td>\n",
              "      <td>0.9830</td>\n",
              "      <td>0.9800</td>\n",
              "      <td>0.9465</td>\n",
              "      <td>0.9840</td>\n",
              "      <td>0.9970</td>\n",
              "    </tr>\n",
              "    <tr>\n",
              "      <th>2</th>\n",
              "      <td>0.9905</td>\n",
              "      <td>0.9845</td>\n",
              "      <td>0.9795</td>\n",
              "      <td>0.9470</td>\n",
              "      <td>0.9865</td>\n",
              "      <td>0.9975</td>\n",
              "    </tr>\n",
              "    <tr>\n",
              "      <th>3</th>\n",
              "      <td>0.9870</td>\n",
              "      <td>0.9820</td>\n",
              "      <td>0.9780</td>\n",
              "      <td>0.9460</td>\n",
              "      <td>0.9850</td>\n",
              "      <td>0.9970</td>\n",
              "    </tr>\n",
              "    <tr>\n",
              "      <th>4</th>\n",
              "      <td>0.9885</td>\n",
              "      <td>0.9840</td>\n",
              "      <td>0.9820</td>\n",
              "      <td>0.9465</td>\n",
              "      <td>0.9850</td>\n",
              "      <td>0.9970</td>\n",
              "    </tr>\n",
              "    <tr>\n",
              "      <th>5</th>\n",
              "      <td>0.9885</td>\n",
              "      <td>0.9825</td>\n",
              "      <td>0.9780</td>\n",
              "      <td>0.9465</td>\n",
              "      <td>0.9845</td>\n",
              "      <td>0.9970</td>\n",
              "    </tr>\n",
              "    <tr>\n",
              "      <th>6</th>\n",
              "      <td>0.9885</td>\n",
              "      <td>0.9850</td>\n",
              "      <td>0.9805</td>\n",
              "      <td>0.9470</td>\n",
              "      <td>0.9860</td>\n",
              "      <td>0.9965</td>\n",
              "    </tr>\n",
              "    <tr>\n",
              "      <th>7</th>\n",
              "      <td>0.9875</td>\n",
              "      <td>0.9855</td>\n",
              "      <td>0.9800</td>\n",
              "      <td>0.9480</td>\n",
              "      <td>0.9850</td>\n",
              "      <td>0.9965</td>\n",
              "    </tr>\n",
              "    <tr>\n",
              "      <th>8</th>\n",
              "      <td>0.9865</td>\n",
              "      <td>0.9865</td>\n",
              "      <td>0.9795</td>\n",
              "      <td>0.9465</td>\n",
              "      <td>0.9840</td>\n",
              "      <td>0.9975</td>\n",
              "    </tr>\n",
              "    <tr>\n",
              "      <th>9</th>\n",
              "      <td>0.9870</td>\n",
              "      <td>0.9800</td>\n",
              "      <td>0.9820</td>\n",
              "      <td>0.9465</td>\n",
              "      <td>0.9845</td>\n",
              "      <td>0.9970</td>\n",
              "    </tr>\n",
              "    <tr>\n",
              "      <th>10</th>\n",
              "      <td>0.9865</td>\n",
              "      <td>0.9810</td>\n",
              "      <td>0.9795</td>\n",
              "      <td>0.9475</td>\n",
              "      <td>0.9840</td>\n",
              "      <td>0.9980</td>\n",
              "    </tr>\n",
              "    <tr>\n",
              "      <th>11</th>\n",
              "      <td>0.9900</td>\n",
              "      <td>0.9885</td>\n",
              "      <td>0.9825</td>\n",
              "      <td>0.9480</td>\n",
              "      <td>0.9845</td>\n",
              "      <td>0.9970</td>\n",
              "    </tr>\n",
              "    <tr>\n",
              "      <th>12</th>\n",
              "      <td>0.9885</td>\n",
              "      <td>0.9830</td>\n",
              "      <td>0.9825</td>\n",
              "      <td>0.9475</td>\n",
              "      <td>0.9855</td>\n",
              "      <td>0.9970</td>\n",
              "    </tr>\n",
              "    <tr>\n",
              "      <th>13</th>\n",
              "      <td>0.9865</td>\n",
              "      <td>0.9865</td>\n",
              "      <td>0.9780</td>\n",
              "      <td>0.9475</td>\n",
              "      <td>0.9855</td>\n",
              "      <td>0.9975</td>\n",
              "    </tr>\n",
              "    <tr>\n",
              "      <th>14</th>\n",
              "      <td>0.9840</td>\n",
              "      <td>0.9850</td>\n",
              "      <td>0.9810</td>\n",
              "      <td>0.9485</td>\n",
              "      <td>0.9830</td>\n",
              "      <td>0.9970</td>\n",
              "    </tr>\n",
              "    <tr>\n",
              "      <th>15</th>\n",
              "      <td>0.9855</td>\n",
              "      <td>0.9800</td>\n",
              "      <td>0.9790</td>\n",
              "      <td>0.9475</td>\n",
              "      <td>0.9865</td>\n",
              "      <td>0.9975</td>\n",
              "    </tr>\n",
              "    <tr>\n",
              "      <th>16</th>\n",
              "      <td>0.9855</td>\n",
              "      <td>0.9795</td>\n",
              "      <td>0.9810</td>\n",
              "      <td>0.9460</td>\n",
              "      <td>0.9860</td>\n",
              "      <td>0.9970</td>\n",
              "    </tr>\n",
              "    <tr>\n",
              "      <th>17</th>\n",
              "      <td>0.9905</td>\n",
              "      <td>0.9830</td>\n",
              "      <td>0.9800</td>\n",
              "      <td>0.9470</td>\n",
              "      <td>0.9865</td>\n",
              "      <td>0.9975</td>\n",
              "    </tr>\n",
              "    <tr>\n",
              "      <th>18</th>\n",
              "      <td>0.9875</td>\n",
              "      <td>0.9820</td>\n",
              "      <td>0.9805</td>\n",
              "      <td>0.9465</td>\n",
              "      <td>0.9850</td>\n",
              "      <td>0.9975</td>\n",
              "    </tr>\n",
              "    <tr>\n",
              "      <th>19</th>\n",
              "      <td>0.9870</td>\n",
              "      <td>0.9830</td>\n",
              "      <td>0.9795</td>\n",
              "      <td>0.9465</td>\n",
              "      <td>0.9845</td>\n",
              "      <td>0.9965</td>\n",
              "    </tr>\n",
              "    <tr>\n",
              "      <th>20</th>\n",
              "      <td>0.9820</td>\n",
              "      <td>0.9800</td>\n",
              "      <td>0.9820</td>\n",
              "      <td>0.9465</td>\n",
              "      <td>0.9840</td>\n",
              "      <td>0.9965</td>\n",
              "    </tr>\n",
              "    <tr>\n",
              "      <th>21</th>\n",
              "      <td>0.9870</td>\n",
              "      <td>0.9820</td>\n",
              "      <td>0.9825</td>\n",
              "      <td>0.9470</td>\n",
              "      <td>0.9850</td>\n",
              "      <td>0.9975</td>\n",
              "    </tr>\n",
              "    <tr>\n",
              "      <th>22</th>\n",
              "      <td>0.9885</td>\n",
              "      <td>0.9855</td>\n",
              "      <td>0.9780</td>\n",
              "      <td>0.9455</td>\n",
              "      <td>0.9865</td>\n",
              "      <td>0.9975</td>\n",
              "    </tr>\n",
              "    <tr>\n",
              "      <th>23</th>\n",
              "      <td>0.9870</td>\n",
              "      <td>0.9850</td>\n",
              "      <td>0.9810</td>\n",
              "      <td>0.9465</td>\n",
              "      <td>0.9875</td>\n",
              "      <td>0.9970</td>\n",
              "    </tr>\n",
              "    <tr>\n",
              "      <th>24</th>\n",
              "      <td>0.9875</td>\n",
              "      <td>0.9845</td>\n",
              "      <td>0.9795</td>\n",
              "      <td>0.9470</td>\n",
              "      <td>0.9870</td>\n",
              "      <td>0.9965</td>\n",
              "    </tr>\n",
              "    <tr>\n",
              "      <th>25</th>\n",
              "      <td>0.9880</td>\n",
              "      <td>0.9860</td>\n",
              "      <td>0.9790</td>\n",
              "      <td>0.9470</td>\n",
              "      <td>0.9820</td>\n",
              "      <td>0.9975</td>\n",
              "    </tr>\n",
              "    <tr>\n",
              "      <th>26</th>\n",
              "      <td>0.9880</td>\n",
              "      <td>0.9840</td>\n",
              "      <td>0.9770</td>\n",
              "      <td>0.9475</td>\n",
              "      <td>0.9840</td>\n",
              "      <td>0.9965</td>\n",
              "    </tr>\n",
              "    <tr>\n",
              "      <th>27</th>\n",
              "      <td>0.9855</td>\n",
              "      <td>0.9850</td>\n",
              "      <td>0.9785</td>\n",
              "      <td>0.9465</td>\n",
              "      <td>0.9865</td>\n",
              "      <td>0.9970</td>\n",
              "    </tr>\n",
              "    <tr>\n",
              "      <th>28</th>\n",
              "      <td>0.9860</td>\n",
              "      <td>0.9845</td>\n",
              "      <td>0.9790</td>\n",
              "      <td>0.9480</td>\n",
              "      <td>0.9835</td>\n",
              "      <td>0.9965</td>\n",
              "    </tr>\n",
              "    <tr>\n",
              "      <th>29</th>\n",
              "      <td>0.9880</td>\n",
              "      <td>0.9825</td>\n",
              "      <td>0.9805</td>\n",
              "      <td>0.9465</td>\n",
              "      <td>0.9865</td>\n",
              "      <td>0.9970</td>\n",
              "    </tr>\n",
              "  </tbody>\n",
              "</table>\n",
              "</div>"
            ],
            "text/plain": [
              "    Arvore  Random forest     KNN  Logistica     SVM  Rede neural\n",
              "0   0.9860         0.9840  0.9815     0.9475  0.9845       0.9965\n",
              "1   0.9850         0.9830  0.9800     0.9465  0.9840       0.9970\n",
              "2   0.9905         0.9845  0.9795     0.9470  0.9865       0.9975\n",
              "3   0.9870         0.9820  0.9780     0.9460  0.9850       0.9970\n",
              "4   0.9885         0.9840  0.9820     0.9465  0.9850       0.9970\n",
              "5   0.9885         0.9825  0.9780     0.9465  0.9845       0.9970\n",
              "6   0.9885         0.9850  0.9805     0.9470  0.9860       0.9965\n",
              "7   0.9875         0.9855  0.9800     0.9480  0.9850       0.9965\n",
              "8   0.9865         0.9865  0.9795     0.9465  0.9840       0.9975\n",
              "9   0.9870         0.9800  0.9820     0.9465  0.9845       0.9970\n",
              "10  0.9865         0.9810  0.9795     0.9475  0.9840       0.9980\n",
              "11  0.9900         0.9885  0.9825     0.9480  0.9845       0.9970\n",
              "12  0.9885         0.9830  0.9825     0.9475  0.9855       0.9970\n",
              "13  0.9865         0.9865  0.9780     0.9475  0.9855       0.9975\n",
              "14  0.9840         0.9850  0.9810     0.9485  0.9830       0.9970\n",
              "15  0.9855         0.9800  0.9790     0.9475  0.9865       0.9975\n",
              "16  0.9855         0.9795  0.9810     0.9460  0.9860       0.9970\n",
              "17  0.9905         0.9830  0.9800     0.9470  0.9865       0.9975\n",
              "18  0.9875         0.9820  0.9805     0.9465  0.9850       0.9975\n",
              "19  0.9870         0.9830  0.9795     0.9465  0.9845       0.9965\n",
              "20  0.9820         0.9800  0.9820     0.9465  0.9840       0.9965\n",
              "21  0.9870         0.9820  0.9825     0.9470  0.9850       0.9975\n",
              "22  0.9885         0.9855  0.9780     0.9455  0.9865       0.9975\n",
              "23  0.9870         0.9850  0.9810     0.9465  0.9875       0.9970\n",
              "24  0.9875         0.9845  0.9795     0.9470  0.9870       0.9965\n",
              "25  0.9880         0.9860  0.9790     0.9470  0.9820       0.9975\n",
              "26  0.9880         0.9840  0.9770     0.9475  0.9840       0.9965\n",
              "27  0.9855         0.9850  0.9785     0.9465  0.9865       0.9970\n",
              "28  0.9860         0.9845  0.9790     0.9480  0.9835       0.9965\n",
              "29  0.9880         0.9825  0.9805     0.9465  0.9865       0.9970"
            ]
          },
          "metadata": {},
          "execution_count": 21
        }
      ]
    },
    {
      "cell_type": "code",
      "metadata": {
        "colab": {
          "base_uri": "https://localhost:8080/",
          "height": 297
        },
        "id": "ePxHknOWX6xL",
        "outputId": "d7fef9f9-328f-4373-d5ba-9702650aacec"
      },
      "source": [
        "resultados.describe()"
      ],
      "execution_count": null,
      "outputs": [
        {
          "output_type": "execute_result",
          "data": {
            "text/html": [
              "<div>\n",
              "<style scoped>\n",
              "    .dataframe tbody tr th:only-of-type {\n",
              "        vertical-align: middle;\n",
              "    }\n",
              "\n",
              "    .dataframe tbody tr th {\n",
              "        vertical-align: top;\n",
              "    }\n",
              "\n",
              "    .dataframe thead th {\n",
              "        text-align: right;\n",
              "    }\n",
              "</style>\n",
              "<table border=\"1\" class=\"dataframe\">\n",
              "  <thead>\n",
              "    <tr style=\"text-align: right;\">\n",
              "      <th></th>\n",
              "      <th>Arvore</th>\n",
              "      <th>Random forest</th>\n",
              "      <th>KNN</th>\n",
              "      <th>Logistica</th>\n",
              "      <th>SVM</th>\n",
              "      <th>Rede neural</th>\n",
              "    </tr>\n",
              "  </thead>\n",
              "  <tbody>\n",
              "    <tr>\n",
              "      <th>count</th>\n",
              "      <td>30.000000</td>\n",
              "      <td>30.000000</td>\n",
              "      <td>30.000000</td>\n",
              "      <td>30.000000</td>\n",
              "      <td>30.000000</td>\n",
              "      <td>30.000000</td>\n",
              "    </tr>\n",
              "    <tr>\n",
              "      <th>mean</th>\n",
              "      <td>0.987133</td>\n",
              "      <td>0.983583</td>\n",
              "      <td>0.980050</td>\n",
              "      <td>0.946950</td>\n",
              "      <td>0.985083</td>\n",
              "      <td>0.997050</td>\n",
              "    </tr>\n",
              "    <tr>\n",
              "      <th>std</th>\n",
              "      <td>0.001814</td>\n",
              "      <td>0.002186</td>\n",
              "      <td>0.001533</td>\n",
              "      <td>0.000687</td>\n",
              "      <td>0.001280</td>\n",
              "      <td>0.000422</td>\n",
              "    </tr>\n",
              "    <tr>\n",
              "      <th>min</th>\n",
              "      <td>0.982000</td>\n",
              "      <td>0.979500</td>\n",
              "      <td>0.977000</td>\n",
              "      <td>0.945500</td>\n",
              "      <td>0.982000</td>\n",
              "      <td>0.996500</td>\n",
              "    </tr>\n",
              "    <tr>\n",
              "      <th>25%</th>\n",
              "      <td>0.986125</td>\n",
              "      <td>0.982125</td>\n",
              "      <td>0.979000</td>\n",
              "      <td>0.946500</td>\n",
              "      <td>0.984125</td>\n",
              "      <td>0.996625</td>\n",
              "    </tr>\n",
              "    <tr>\n",
              "      <th>50%</th>\n",
              "      <td>0.987000</td>\n",
              "      <td>0.984000</td>\n",
              "      <td>0.980000</td>\n",
              "      <td>0.947000</td>\n",
              "      <td>0.985000</td>\n",
              "      <td>0.997000</td>\n",
              "    </tr>\n",
              "    <tr>\n",
              "      <th>75%</th>\n",
              "      <td>0.988375</td>\n",
              "      <td>0.985000</td>\n",
              "      <td>0.981000</td>\n",
              "      <td>0.947500</td>\n",
              "      <td>0.986375</td>\n",
              "      <td>0.997500</td>\n",
              "    </tr>\n",
              "    <tr>\n",
              "      <th>max</th>\n",
              "      <td>0.990500</td>\n",
              "      <td>0.988500</td>\n",
              "      <td>0.982500</td>\n",
              "      <td>0.948500</td>\n",
              "      <td>0.987500</td>\n",
              "      <td>0.998000</td>\n",
              "    </tr>\n",
              "  </tbody>\n",
              "</table>\n",
              "</div>"
            ],
            "text/plain": [
              "          Arvore  Random forest        KNN  Logistica        SVM  Rede neural\n",
              "count  30.000000      30.000000  30.000000  30.000000  30.000000    30.000000\n",
              "mean    0.987133       0.983583   0.980050   0.946950   0.985083     0.997050\n",
              "std     0.001814       0.002186   0.001533   0.000687   0.001280     0.000422\n",
              "min     0.982000       0.979500   0.977000   0.945500   0.982000     0.996500\n",
              "25%     0.986125       0.982125   0.979000   0.946500   0.984125     0.996625\n",
              "50%     0.987000       0.984000   0.980000   0.947000   0.985000     0.997000\n",
              "75%     0.988375       0.985000   0.981000   0.947500   0.986375     0.997500\n",
              "max     0.990500       0.988500   0.982500   0.948500   0.987500     0.998000"
            ]
          },
          "metadata": {},
          "execution_count": 22
        }
      ]
    },
    {
      "cell_type": "code",
      "metadata": {
        "colab": {
          "base_uri": "https://localhost:8080/"
        },
        "id": "MVL-HZRwZzRH",
        "outputId": "f9a1e8ca-fa31-4a7e-937d-ef597479bd1d"
      },
      "source": [
        "resultados.var()"
      ],
      "execution_count": null,
      "outputs": [
        {
          "output_type": "execute_result",
          "data": {
            "text/plain": [
              "Arvore           3.291954e-06\n",
              "Random forest    4.777299e-06\n",
              "KNN              2.350862e-06\n",
              "Logistica        4.715517e-07\n",
              "SVM              1.639368e-06\n",
              "Rede neural      1.784483e-07\n",
              "dtype: float64"
            ]
          },
          "metadata": {},
          "execution_count": 23
        }
      ]
    },
    {
      "cell_type": "code",
      "metadata": {
        "colab": {
          "base_uri": "https://localhost:8080/"
        },
        "id": "RhdVYFBebCMX",
        "outputId": "90589773-f837-4de6-81fc-552470df6b58"
      },
      "source": [
        "# Coeficiente de variação\n",
        "(resultados.std() / resultados.mean()) * 100"
      ],
      "execution_count": null,
      "outputs": [
        {
          "output_type": "execute_result",
          "data": {
            "text/plain": [
              "Arvore           0.183802\n",
              "Random forest    0.222218\n",
              "KNN              0.156446\n",
              "Logistica        0.072517\n",
              "SVM              0.129977\n",
              "Rede neural      0.042368\n",
              "dtype: float64"
            ]
          },
          "metadata": {},
          "execution_count": 24
        }
      ]
    },
    {
      "cell_type": "markdown",
      "metadata": {
        "id": "j7sviGc78VUI"
      },
      "source": [
        "# Teste de Normalidade nos Resultados"
      ]
    },
    {
      "cell_type": "code",
      "metadata": {
        "id": "TpO8ZwzBbRAH"
      },
      "source": [
        "alpha = 0.05"
      ],
      "execution_count": null,
      "outputs": []
    },
    {
      "cell_type": "code",
      "metadata": {
        "id": "qdszCg5e92Nf"
      },
      "source": [
        "from scipy.stats import shapiro"
      ],
      "execution_count": null,
      "outputs": []
    },
    {
      "cell_type": "code",
      "metadata": {
        "colab": {
          "base_uri": "https://localhost:8080/"
        },
        "id": "Xe4j3Pox-E1K",
        "outputId": "e0ef5bd7-591a-48ab-9d8a-6e4016add5a1"
      },
      "source": [
        "shapiro(resultados_arvore), shapiro(resultados_random_forest), shapiro(resultados_knn), shapiro(resultados_logistica),shapiro(resultados_svm),shapiro(resultados_rede_neural)"
      ],
      "execution_count": null,
      "outputs": [
        {
          "output_type": "execute_result",
          "data": {
            "text/plain": [
              "((0.9593378305435181, 0.29790374636650085),\n",
              " (0.9708032608032227, 0.5613826513290405),\n",
              " (0.9584026336669922, 0.28181564807891846),\n",
              " (0.9370993375778198, 0.07600117474794388),\n",
              " (0.962294340133667, 0.35407164692878723),\n",
              " (0.8578012585639954, 0.0009071280364878476))"
            ]
          },
          "metadata": {},
          "execution_count": 27
        }
      ]
    },
    {
      "cell_type": "markdown",
      "metadata": {
        "id": "u0-dGHFn_TuC"
      },
      "source": [
        "Gerando os plots"
      ]
    },
    {
      "cell_type": "code",
      "metadata": {
        "id": "xHOCu_Cs_Qnv"
      },
      "source": [
        "import seaborn as sns"
      ],
      "execution_count": null,
      "outputs": []
    },
    {
      "cell_type": "code",
      "metadata": {
        "colab": {
          "base_uri": "https://localhost:8080/",
          "height": 369
        },
        "id": "3wbGlJ1D_dCL",
        "outputId": "83353199-8ea8-419e-8464-b3c61de44620"
      },
      "source": [
        "sns.displot(resultados_arvore, kind='kde');"
      ],
      "execution_count": null,
      "outputs": [
        {
          "output_type": "display_data",
          "data": {
            "image/png": "[encoded data removed]",
            "text/plain": [
              "<Figure size 360x360 with 1 Axes>"
            ]
          },
          "metadata": {
            "needs_background": "light"
          }
        }
      ]
    },
    {
      "cell_type": "code",
      "metadata": {
        "colab": {
          "base_uri": "https://localhost:8080/",
          "height": 386
        },
        "id": "bLQWDM-W_lvs",
        "outputId": "12d95037-15aa-4d8a-fb13-7a52a126db73"
      },
      "source": [
        "sns.displot(resultados_random_forest, kind='kde')"
      ],
      "execution_count": null,
      "outputs": [
        {
          "output_type": "execute_result",
          "data": {
            "text/plain": [
              "<seaborn.axisgrid.FacetGrid at 0x7f303e55db50>"
            ]
          },
          "metadata": {},
          "execution_count": 36
        },
        {
          "output_type": "display_data",
          "data": {
            "image/png": "[encoded data removed]",
            "text/plain": [
              "<Figure size 360x360 with 1 Axes>"
            ]
          },
          "metadata": {
            "needs_background": "light"
          }
        }
      ]
    },
    {
      "cell_type": "code",
      "metadata": {
        "colab": {
          "base_uri": "https://localhost:8080/",
          "height": 386
        },
        "id": "lSzL5iJI_6t9",
        "outputId": "7e3a096d-beed-457f-d680-f1445cf4c15d"
      },
      "source": [
        "sns.displot(resultados_knn, kind='kde')"
      ],
      "execution_count": null,
      "outputs": [
        {
          "output_type": "execute_result",
          "data": {
            "text/plain": [
              "<seaborn.axisgrid.FacetGrid at 0x7f303c459c90>"
            ]
          },
          "metadata": {},
          "execution_count": 38
        },
        {
          "output_type": "display_data",
          "data": {
            "image/png": "[encoded data removed]",
            "text/plain": [
              "<Figure size 360x360 with 1 Axes>"
            ]
          },
          "metadata": {
            "needs_background": "light"
          }
        }
      ]
    },
    {
      "cell_type": "code",
      "metadata": {
        "colab": {
          "base_uri": "https://localhost:8080/",
          "height": 386
        },
        "id": "QQAazukJAEcF",
        "outputId": "7b9ca30f-9129-49c1-8847-d679d0592852"
      },
      "source": [
        "sns.displot(resultados_logistica, kind='kde')"
      ],
      "execution_count": null,
      "outputs": [
        {
          "output_type": "execute_result",
          "data": {
            "text/plain": [
              "<seaborn.axisgrid.FacetGrid at 0x7f303c459550>"
            ]
          },
          "metadata": {},
          "execution_count": 39
        },
        {
          "output_type": "display_data",
          "data": {
            "image/png": "[encoded data removed]",
            "text/plain": [
              "<Figure size 360x360 with 1 Axes>"
            ]
          },
          "metadata": {
            "needs_background": "light"
          }
        }
      ]
    },
    {
      "cell_type": "code",
      "metadata": {
        "colab": {
          "base_uri": "https://localhost:8080/",
          "height": 386
        },
        "id": "1UAzYVlvARu9",
        "outputId": "1ba43e07-c7e4-4f23-fa26-1025c90cc2fc"
      },
      "source": [
        "sns.displot(resultados_svm, kind='kde')"
      ],
      "execution_count": null,
      "outputs": [
        {
          "output_type": "execute_result",
          "data": {
            "text/plain": [
              "<seaborn.axisgrid.FacetGrid at 0x7f303c3f2910>"
            ]
          },
          "metadata": {},
          "execution_count": 40
        },
        {
          "output_type": "display_data",
          "data": {
            "image/png": "[encoded data removed]",
            "text/plain": [
              "<Figure size 360x360 with 1 Axes>"
            ]
          },
          "metadata": {
            "needs_background": "light"
          }
        }
      ]
    },
    {
      "cell_type": "code",
      "metadata": {
        "colab": {
          "base_uri": "https://localhost:8080/",
          "height": 386
        },
        "id": "xLc9XQd_Alav",
        "outputId": "8fb86a7d-90cc-49e0-dc73-0ea3921fe7b7"
      },
      "source": [
        "sns.displot(resultados_rede_neural, kind='kde')"
      ],
      "execution_count": null,
      "outputs": [
        {
          "output_type": "execute_result",
          "data": {
            "text/plain": [
              "<seaborn.axisgrid.FacetGrid at 0x7f303e5792d0>"
            ]
          },
          "metadata": {},
          "execution_count": 41
        },
        {
          "output_type": "display_data",
          "data": {
            "image/png": "[encoded data removed]",
            "text/plain": [
              "<Figure size 360x360 with 1 Axes>"
            ]
          },
          "metadata": {
            "needs_background": "light"
          }
        }
      ]
    },
    {
      "cell_type": "markdown",
      "metadata": {
        "id": "wPTYmgSD_JaX"
      },
      "source": [
        "# Teste de Hipótese com ANOVA e Tukey"
      ]
    },
    {
      "cell_type": "code",
      "metadata": {
        "id": "PjPfOTs0-rvR"
      },
      "source": [
        "from scipy.stats import f_oneway"
      ],
      "execution_count": null,
      "outputs": []
    },
    {
      "cell_type": "code",
      "metadata": {
        "id": "elTCyjHfFVla"
      },
      "source": [
        "_,p = f_oneway(resultados_arvore, resultados_knn, resultados_logistica, resultados_random_forest,resultados_svm, resultados_rede_neural)"
      ],
      "execution_count": null,
      "outputs": []
    },
    {
      "cell_type": "code",
      "metadata": {
        "colab": {
          "base_uri": "https://localhost:8080/"
        },
        "id": "Q9_dI_-PFtEo",
        "outputId": "52af5d76-d69a-4cf1-bb7f-1c9cbf592da6"
      },
      "source": [
        "p"
      ],
      "execution_count": null,
      "outputs": [
        {
          "output_type": "execute_result",
          "data": {
            "text/plain": [
              "4.278398954325748e-179"
            ]
          },
          "metadata": {},
          "execution_count": 31
        }
      ]
    },
    {
      "cell_type": "code",
      "metadata": {
        "colab": {
          "base_uri": "https://localhost:8080/"
        },
        "id": "kJxSyAckFunQ",
        "outputId": "806d84c1-033b-4df5-b04d-31c9fbb09033"
      },
      "source": [
        "if p <= alpha:\n",
        "  print('Hipótese nula rejeitada. Dados são diferentes')\n",
        "else:\n",
        "  print('Hipótese alternativa rejeitada. Resultados iguais')  "
      ],
      "execution_count": null,
      "outputs": [
        {
          "output_type": "stream",
          "text": [
            "Hipótese nula rejeitada. Dados são diferentes\n"
          ],
          "name": "stdout"
        }
      ]
    },
    {
      "cell_type": "code",
      "metadata": {
        "id": "oAfiyTttIgBM"
      },
      "source": [
        "resultados_algoritmos = {'accuracy': np.concatenate([resultados_arvore, resultados_random_forest, resultados_knn, resultados_logistica, resultados_svm, resultados_rede_neural]),\n",
        "                         'algoritmo': ['arvore','arvore','arvore','arvore','arvore','arvore','arvore','arvore','arvore','arvore','arvore','arvore','arvore','arvore','arvore','arvore','arvore','arvore','arvore','arvore','arvore','arvore','arvore','arvore','arvore','arvore','arvore','arvore','arvore','arvore', \n",
        "                          'random_forest','random_forest','random_forest','random_forest','random_forest','random_forest','random_forest','random_forest','random_forest','random_forest','random_forest','random_forest','random_forest','random_forest','random_forest','random_forest','random_forest','random_forest','random_forest','random_forest','random_forest','random_forest','random_forest','random_forest','random_forest','random_forest','random_forest','random_forest','random_forest','random_forest', \n",
        "                          'knn','knn','knn','knn','knn','knn','knn','knn','knn','knn','knn','knn','knn','knn','knn','knn','knn','knn','knn','knn','knn','knn','knn','knn','knn','knn','knn','knn','knn','knn', \n",
        "                          'logistica','logistica','logistica','logistica','logistica','logistica','logistica','logistica','logistica','logistica','logistica','logistica','logistica','logistica','logistica','logistica','logistica','logistica','logistica','logistica','logistica','logistica','logistica','logistica','logistica','logistica','logistica','logistica','logistica','logistica',\n",
        "                          'svm','svm','svm','svm','svm','svm','svm','svm','svm','svm','svm','svm','svm','svm','svm','svm','svm','svm','svm','svm','svm','svm','svm','svm','svm','svm','svm','svm','svm','svm',\n",
        "                          'rede_neural','rede_neural','rede_neural','rede_neural','rede_neural','rede_neural','rede_neural','rede_neural','rede_neural','rede_neural','rede_neural','rede_neural','rede_neural','rede_neural','rede_neural','rede_neural','rede_neural','rede_neural','rede_neural','rede_neural','rede_neural','rede_neural','rede_neural','rede_neural','rede_neural','rede_neural','rede_neural','rede_neural','rede_neural','rede_neural']}\n"
      ],
      "execution_count": null,
      "outputs": []
    },
    {
      "cell_type": "code",
      "metadata": {
        "id": "prxjS6uPIvbQ"
      },
      "source": [
        "resultados_df = pd.DataFrame(resultados_algoritmos)"
      ],
      "execution_count": null,
      "outputs": []
    },
    {
      "cell_type": "code",
      "metadata": {
        "colab": {
          "base_uri": "https://localhost:8080/",
          "height": 419
        },
        "id": "8jhnPfWLJG3l",
        "outputId": "fc98416a-7697-434f-a8ef-2feb553790b8"
      },
      "source": [
        "resultados_df"
      ],
      "execution_count": null,
      "outputs": [
        {
          "output_type": "execute_result",
          "data": {
            "text/html": [
              "<div>\n",
              "<style scoped>\n",
              "    .dataframe tbody tr th:only-of-type {\n",
              "        vertical-align: middle;\n",
              "    }\n",
              "\n",
              "    .dataframe tbody tr th {\n",
              "        vertical-align: top;\n",
              "    }\n",
              "\n",
              "    .dataframe thead th {\n",
              "        text-align: right;\n",
              "    }\n",
              "</style>\n",
              "<table border=\"1\" class=\"dataframe\">\n",
              "  <thead>\n",
              "    <tr style=\"text-align: right;\">\n",
              "      <th></th>\n",
              "      <th>accuracy</th>\n",
              "      <th>algoritmo</th>\n",
              "    </tr>\n",
              "  </thead>\n",
              "  <tbody>\n",
              "    <tr>\n",
              "      <th>0</th>\n",
              "      <td>0.9860</td>\n",
              "      <td>arvore</td>\n",
              "    </tr>\n",
              "    <tr>\n",
              "      <th>1</th>\n",
              "      <td>0.9850</td>\n",
              "      <td>arvore</td>\n",
              "    </tr>\n",
              "    <tr>\n",
              "      <th>2</th>\n",
              "      <td>0.9905</td>\n",
              "      <td>arvore</td>\n",
              "    </tr>\n",
              "    <tr>\n",
              "      <th>3</th>\n",
              "      <td>0.9870</td>\n",
              "      <td>arvore</td>\n",
              "    </tr>\n",
              "    <tr>\n",
              "      <th>4</th>\n",
              "      <td>0.9885</td>\n",
              "      <td>arvore</td>\n",
              "    </tr>\n",
              "    <tr>\n",
              "      <th>...</th>\n",
              "      <td>...</td>\n",
              "      <td>...</td>\n",
              "    </tr>\n",
              "    <tr>\n",
              "      <th>175</th>\n",
              "      <td>0.9975</td>\n",
              "      <td>rede_neural</td>\n",
              "    </tr>\n",
              "    <tr>\n",
              "      <th>176</th>\n",
              "      <td>0.9965</td>\n",
              "      <td>rede_neural</td>\n",
              "    </tr>\n",
              "    <tr>\n",
              "      <th>177</th>\n",
              "      <td>0.9970</td>\n",
              "      <td>rede_neural</td>\n",
              "    </tr>\n",
              "    <tr>\n",
              "      <th>178</th>\n",
              "      <td>0.9965</td>\n",
              "      <td>rede_neural</td>\n",
              "    </tr>\n",
              "    <tr>\n",
              "      <th>179</th>\n",
              "      <td>0.9970</td>\n",
              "      <td>rede_neural</td>\n",
              "    </tr>\n",
              "  </tbody>\n",
              "</table>\n",
              "<p>180 rows × 2 columns</p>\n",
              "</div>"
            ],
            "text/plain": [
              "     accuracy    algoritmo\n",
              "0      0.9860       arvore\n",
              "1      0.9850       arvore\n",
              "2      0.9905       arvore\n",
              "3      0.9870       arvore\n",
              "4      0.9885       arvore\n",
              "..        ...          ...\n",
              "175    0.9975  rede_neural\n",
              "176    0.9965  rede_neural\n",
              "177    0.9970  rede_neural\n",
              "178    0.9965  rede_neural\n",
              "179    0.9970  rede_neural\n",
              "\n",
              "[180 rows x 2 columns]"
            ]
          },
          "metadata": {},
          "execution_count": 35
        }
      ]
    },
    {
      "cell_type": "code",
      "metadata": {
        "id": "ELMSgb6kJI-e"
      },
      "source": [
        "from statsmodels.stats.multicomp import MultiComparison"
      ],
      "execution_count": null,
      "outputs": []
    },
    {
      "cell_type": "code",
      "metadata": {
        "id": "0WHb5tafJ40o"
      },
      "source": [
        "compara_algoritmos = MultiComparison(resultados_df['accuracy'], resultados_df['algoritmo'])"
      ],
      "execution_count": null,
      "outputs": []
    },
    {
      "cell_type": "code",
      "metadata": {
        "colab": {
          "base_uri": "https://localhost:8080/"
        },
        "id": "0hh5zsU5J_hx",
        "outputId": "ffa0d374-b38b-4056-9f16-d43c86167dcd"
      },
      "source": [
        "teste_estatistico = compara_algoritmos.tukeyhsd()\n",
        "print(teste_estatistico)"
      ],
      "execution_count": null,
      "outputs": [
        {
          "output_type": "stream",
          "text": [
            "       Multiple Comparison of Means - Tukey HSD, FWER=0.05        \n",
            "==================================================================\n",
            "    group1        group2    meandiff p-adj   lower   upper  reject\n",
            "------------------------------------------------------------------\n",
            "       arvore           knn  -0.0071  0.001 -0.0082  -0.006   True\n",
            "       arvore     logistica  -0.0402  0.001 -0.0413 -0.0391   True\n",
            "       arvore random_forest  -0.0035  0.001 -0.0046 -0.0025   True\n",
            "       arvore   rede_neural   0.0099  0.001  0.0088   0.011   True\n",
            "       arvore           svm   -0.002  0.001 -0.0031  -0.001   True\n",
            "          knn     logistica  -0.0331  0.001 -0.0342  -0.032   True\n",
            "          knn random_forest   0.0035  0.001  0.0025  0.0046   True\n",
            "          knn   rede_neural    0.017  0.001  0.0159  0.0181   True\n",
            "          knn           svm    0.005  0.001   0.004  0.0061   True\n",
            "    logistica random_forest   0.0366  0.001  0.0356  0.0377   True\n",
            "    logistica   rede_neural   0.0501  0.001   0.049  0.0512   True\n",
            "    logistica           svm   0.0381  0.001  0.0371  0.0392   True\n",
            "random_forest   rede_neural   0.0135  0.001  0.0124  0.0145   True\n",
            "random_forest           svm   0.0015 0.0013  0.0004  0.0026   True\n",
            "  rede_neural           svm   -0.012  0.001  -0.013 -0.0109   True\n",
            "------------------------------------------------------------------\n"
          ],
          "name": "stdout"
        }
      ]
    },
    {
      "cell_type": "code",
      "metadata": {
        "colab": {
          "base_uri": "https://localhost:8080/",
          "height": 390
        },
        "id": "UWzwDMm_KPjc",
        "outputId": "e25bc30e-6308-4c03-a167-cf423437ed79"
      },
      "source": [
        "teste_estatistico.plot_simultaneous();"
      ],
      "execution_count": null,
      "outputs": [
        {
          "output_type": "display_data",
          "data": {
            "image/png": "[encoded data removed]",
            "text/plain": [
              "<Figure size 720x432 with 1 Axes>"
            ]
          },
          "metadata": {
            "needs_background": "light"
          }
        }
      ]
    },
    {
      "cell_type": "code",
      "metadata": {
        "id": "1EgECV1KLV-a",
        "colab": {
          "base_uri": "https://localhost:8080/"
        },
        "outputId": "4ac27ef4-8286-4513-ba66-b31be27b379c"
      },
      "source": [
        "X_credit.shape"
      ],
      "execution_count": null,
      "outputs": [
        {
          "output_type": "execute_result",
          "data": {
            "text/plain": [
              "(2000, 3)"
            ]
          },
          "metadata": {},
          "execution_count": 40
        }
      ]
    },
    {
      "cell_type": "code",
      "metadata": {
        "colab": {
          "base_uri": "https://localhost:8080/"
        },
        "id": "IAvMcVx6jTv0",
        "outputId": "e7c71ead-8c03-4eeb-ce43-dc6cfaa43c8e"
      },
      "source": [
        "y_credit.shape"
      ],
      "execution_count": null,
      "outputs": [
        {
          "output_type": "execute_result",
          "data": {
            "text/plain": [
              "(2000,)"
            ]
          },
          "metadata": {},
          "execution_count": 41
        }
      ]
    },
    {
      "cell_type": "markdown",
      "metadata": {
        "id": "hvUj1zDRjaRn"
      },
      "source": [
        "# Salvar um classificador ja treinado"
      ]
    },
    {
      "cell_type": "code",
      "metadata": {
        "id": "c-9DRSVjjXYb"
      },
      "source": [
        "from sklearn.neural_network import MLPClassifier\n",
        "from sklearn.tree import DecisionTreeClassifier\n",
        "from sklearn.svm import SVC"
      ],
      "execution_count": null,
      "outputs": []
    },
    {
      "cell_type": "markdown",
      "metadata": {
        "id": "08BImYBkkJTp"
      },
      "source": [
        "# Redes Neurais"
      ]
    },
    {
      "cell_type": "code",
      "metadata": {
        "colab": {
          "base_uri": "https://localhost:8080/"
        },
        "id": "Jy4rW40bkDCA",
        "outputId": "284c8233-e20c-4387-a2d1-7df38be22f8e"
      },
      "source": [
        "classificador_rede_neural = MLPClassifier(activation='relu', batch_size = 56, solver='adam')\n",
        "classificador_rede_neural.fit(X_credit, y_credit)"
      ],
      "execution_count": null,
      "outputs": [
        {
          "output_type": "stream",
          "text": [
            "/usr/local/lib/python3.7/dist-packages/sklearn/neural_network/_multilayer_perceptron.py:571: ConvergenceWarning: Stochastic Optimizer: Maximum iterations (200) reached and the optimization hasn't converged yet.\n",
            "  % self.max_iter, ConvergenceWarning)\n"
          ],
          "name": "stderr"
        },
        {
          "output_type": "execute_result",
          "data": {
            "text/plain": [
              "MLPClassifier(activation='relu', alpha=0.0001, batch_size=56, beta_1=0.9,\n",
              "              beta_2=0.999, early_stopping=False, epsilon=1e-08,\n",
              "              hidden_layer_sizes=(100,), learning_rate='constant',\n",
              "              learning_rate_init=0.001, max_fun=15000, max_iter=200,\n",
              "              momentum=0.9, n_iter_no_change=10, nesterovs_momentum=True,\n",
              "              power_t=0.5, random_state=None, shuffle=True, solver='adam',\n",
              "              tol=0.0001, validation_fraction=0.1, verbose=False,\n",
              "              warm_start=False)"
            ]
          },
          "metadata": {},
          "execution_count": 43
        }
      ]
    },
    {
      "cell_type": "markdown",
      "metadata": {
        "id": "Cazt3K2iktHC"
      },
      "source": [
        "# Decision Tree"
      ]
    },
    {
      "cell_type": "code",
      "metadata": {
        "colab": {
          "base_uri": "https://localhost:8080/"
        },
        "id": "cCd01eLjkOkL",
        "outputId": "2f908515-cc3d-4331-cd7f-920e1f7e7504"
      },
      "source": [
        "classificador_arvore = DecisionTreeClassifier(criterion='entropy', min_samples_leaf=1, min_samples_split=5, splitter='best')\n",
        "classificador_arvore.fit(X_credit, y_credit)"
      ],
      "execution_count": null,
      "outputs": [
        {
          "output_type": "execute_result",
          "data": {
            "text/plain": [
              "DecisionTreeClassifier(ccp_alpha=0.0, class_weight=None, criterion='entropy',\n",
              "                       max_depth=None, max_features=None, max_leaf_nodes=None,\n",
              "                       min_impurity_decrease=0.0, min_impurity_split=None,\n",
              "                       min_samples_leaf=1, min_samples_split=5,\n",
              "                       min_weight_fraction_leaf=0.0, presort='deprecated',\n",
              "                       random_state=None, splitter='best')"
            ]
          },
          "metadata": {},
          "execution_count": 44
        }
      ]
    },
    {
      "cell_type": "markdown",
      "metadata": {
        "id": "-YnwQDSak2bt"
      },
      "source": [
        "# SVM"
      ]
    },
    {
      "cell_type": "code",
      "metadata": {
        "colab": {
          "base_uri": "https://localhost:8080/"
        },
        "id": "TzfoeClykyMJ",
        "outputId": "a82eeada-5f61-4360-de33-8851afeff3ca"
      },
      "source": [
        "classificador_svm = SVC(C = 2.0, kernel='rbf', probability=True)\n",
        "classificador_svm.fit(X_credit, y_credit)"
      ],
      "execution_count": null,
      "outputs": [
        {
          "output_type": "execute_result",
          "data": {
            "text/plain": [
              "SVC(C=2.0, break_ties=False, cache_size=200, class_weight=None, coef0=0.0,\n",
              "    decision_function_shape='ovr', degree=3, gamma='scale', kernel='rbf',\n",
              "    max_iter=-1, probability=True, random_state=None, shrinking=True, tol=0.001,\n",
              "    verbose=False)"
            ]
          },
          "metadata": {},
          "execution_count": 45
        }
      ]
    },
    {
      "cell_type": "markdown",
      "metadata": {
        "id": "Qw-QWH0mlJDj"
      },
      "source": [
        "# Salvando os classificadores"
      ]
    },
    {
      "cell_type": "code",
      "metadata": {
        "id": "fMIQ90Wdk5Sj"
      },
      "source": [
        "import pickle\n",
        "pickle.dump(classificador_rede_neural, open('rede_neural_finalizado.sav', 'wb'))\n",
        "pickle.dump(classificador_arvore, open('arvore_finalizado.sav', 'wb'))\n",
        "pickle.dump(classificador_svm, open('svm_finalizado.sav', 'wb'))"
      ],
      "execution_count": null,
      "outputs": []
    },
    {
      "cell_type": "markdown",
      "metadata": {
        "id": "Mq6KhAKllWB0"
      },
      "source": [
        "# Carregar um classificador ja treinado"
      ]
    },
    {
      "cell_type": "code",
      "metadata": {
        "id": "Mo3WfzmKlOqJ"
      },
      "source": [
        "rede_neural = pickle.load(open('rede_neural_finalizado.sav', 'rb'))\n",
        "arvore = pickle.load(open('arvore_finalizado.sav', 'rb'))\n",
        "svm = pickle.load(open('svm_finalizado.sav', 'rb'))"
      ],
      "execution_count": null,
      "outputs": []
    },
    {
      "cell_type": "markdown",
      "metadata": {
        "id": "TWjWDtsYmmmK"
      },
      "source": [
        "# Gerando uma previsao"
      ]
    },
    {
      "cell_type": "code",
      "metadata": {
        "colab": {
          "base_uri": "https://localhost:8080/"
        },
        "id": "9Y73bY7il6iA",
        "outputId": "e0c5e810-9ae0-4657-aa80-c90864625ac4"
      },
      "source": [
        "novo_registro = X_credit[1999]\n",
        "novo_registro"
      ],
      "execution_count": null,
      "outputs": [
        {
          "output_type": "execute_result",
          "data": {
            "text/plain": [
              "array([-1.03572293, -0.93978122,  0.04244312])"
            ]
          },
          "metadata": {},
          "execution_count": 48
        }
      ]
    },
    {
      "cell_type": "code",
      "metadata": {
        "colab": {
          "base_uri": "https://localhost:8080/"
        },
        "id": "gHaujEEemVjD",
        "outputId": "b5c99338-d362-4b1f-abf2-4cafb29cb46c"
      },
      "source": [
        "novo_registro = novo_registro.reshape(1, -1)\n",
        "novo_registro.shape"
      ],
      "execution_count": null,
      "outputs": [
        {
          "output_type": "execute_result",
          "data": {
            "text/plain": [
              "(1, 3)"
            ]
          },
          "metadata": {},
          "execution_count": 49
        }
      ]
    },
    {
      "cell_type": "code",
      "metadata": {
        "colab": {
          "base_uri": "https://localhost:8080/"
        },
        "id": "sjEievtXmz7a",
        "outputId": "e48706ba-c7d8-4c23-ffd3-4a9d804ff864"
      },
      "source": [
        "rede_neural.predict(novo_registro)"
      ],
      "execution_count": null,
      "outputs": [
        {
          "output_type": "execute_result",
          "data": {
            "text/plain": [
              "array([1])"
            ]
          },
          "metadata": {},
          "execution_count": 50
        }
      ]
    },
    {
      "cell_type": "code",
      "metadata": {
        "colab": {
          "base_uri": "https://localhost:8080/"
        },
        "id": "tSLTtzA5m4jf",
        "outputId": "5f02224d-bb55-43df-bb61-308dea738378"
      },
      "source": [
        "arvore.predict(novo_registro)\n"
      ],
      "execution_count": null,
      "outputs": [
        {
          "output_type": "execute_result",
          "data": {
            "text/plain": [
              "array([1])"
            ]
          },
          "metadata": {},
          "execution_count": 51
        }
      ]
    },
    {
      "cell_type": "code",
      "metadata": {
        "colab": {
          "base_uri": "https://localhost:8080/"
        },
        "id": "R2BW_Y_MnjQq",
        "outputId": "dbac63c7-0c73-48cb-9890-bec55be705a9"
      },
      "source": [
        "svm.predict(novo_registro)"
      ],
      "execution_count": null,
      "outputs": [
        {
          "output_type": "execute_result",
          "data": {
            "text/plain": [
              "array([1])"
            ]
          },
          "metadata": {},
          "execution_count": 52
        }
      ]
    },
    {
      "cell_type": "markdown",
      "metadata": {
        "id": "VROO9pWEoQpt"
      },
      "source": [
        "# Combinação de classificadores"
      ]
    },
    {
      "cell_type": "code",
      "metadata": {
        "colab": {
          "base_uri": "https://localhost:8080/"
        },
        "id": "pRrz24K9nnJh",
        "outputId": "18bb9814-da9e-4315-eb6b-917fadaba824"
      },
      "source": [
        "novo_registro = X_credit[1999]\n",
        "novo_registro = novo_registro.reshape(1, -1)\n",
        "novo_registro, novo_registro.shape"
      ],
      "execution_count": null,
      "outputs": [
        {
          "output_type": "execute_result",
          "data": {
            "text/plain": [
              "(array([[-1.03572293, -0.93978122,  0.04244312]]), (1, 3))"
            ]
          },
          "metadata": {},
          "execution_count": 53
        }
      ]
    },
    {
      "cell_type": "code",
      "metadata": {
        "id": "rLrsNIo6oZPc"
      },
      "source": [
        "resposta_rede_neural = rede_neural.predict(novo_registro)\n",
        "resposta_arvore = arvore.predict(novo_registro)\n",
        "resposta_svm = svm.predict(novo_registro)"
      ],
      "execution_count": null,
      "outputs": []
    },
    {
      "cell_type": "code",
      "metadata": {
        "colab": {
          "base_uri": "https://localhost:8080/"
        },
        "id": "WVfddpYGofpm",
        "outputId": "203fed9e-1407-4308-d275-078aa7cb19c8"
      },
      "source": [
        "resposta_rede_neural[0], resposta_arvore[0], resposta_svm[0]"
      ],
      "execution_count": null,
      "outputs": [
        {
          "output_type": "execute_result",
          "data": {
            "text/plain": [
              "(1, 1, 1)"
            ]
          },
          "metadata": {},
          "execution_count": 55
        }
      ]
    },
    {
      "cell_type": "code",
      "metadata": {
        "colab": {
          "base_uri": "https://localhost:8080/"
        },
        "id": "YMSZfhohoka9",
        "outputId": "3c0d5b1a-b9fd-4f5d-fac5-d1ce7cc391b8"
      },
      "source": [
        "paga = 0\n",
        "nao_paga = 0\n",
        "\n",
        "if resposta_rede_neural[0] == 1:\n",
        "  nao_paga += 1\n",
        "else:\n",
        "  paga += 1\n",
        "\n",
        "if resposta_arvore[0] == 1:\n",
        "  nao_paga += 1\n",
        "else:\n",
        "  paga += 1\n",
        "\n",
        "if resposta_svm[0] == 1:\n",
        "  nao_paga += 1\n",
        "else:\n",
        "  paga += 1\n",
        "\n",
        "if paga > nao_paga:\n",
        "  print('Cliente pagará o empréstimo')\n",
        "elif paga == nao_paga:\n",
        "  print('Empate')\n",
        "else:\n",
        "  print('Cliente não pagará o empréstimo')"
      ],
      "execution_count": null,
      "outputs": [
        {
          "output_type": "stream",
          "text": [
            "Cliente não pagará o empréstimo\n"
          ],
          "name": "stdout"
        }
      ]
    },
    {
      "cell_type": "markdown",
      "metadata": {
        "id": "i9AOmHvWqnUs"
      },
      "source": [
        "# Rejeição de classificadores"
      ]
    },
    {
      "cell_type": "code",
      "metadata": {
        "colab": {
          "base_uri": "https://localhost:8080/"
        },
        "id": "LVpmZMd8phgH",
        "outputId": "4ac62291-f5ba-4ff3-fb45-0711316a3664"
      },
      "source": [
        "novo_registro = X_credit[1999]\n",
        "novo_registro = novo_registro.reshape(1, -1)\n",
        "novo_registro, novo_registro.shape"
      ],
      "execution_count": null,
      "outputs": [
        {
          "output_type": "execute_result",
          "data": {
            "text/plain": [
              "(array([[-1.03572293, -0.93978122,  0.04244312]]), (1, 3))"
            ]
          },
          "metadata": {},
          "execution_count": 57
        }
      ]
    },
    {
      "cell_type": "code",
      "metadata": {
        "id": "AXI1MENzqtuy"
      },
      "source": [
        "resposta_rede_neural = rede_neural.predict(novo_registro)\n",
        "resposta_arvore = arvore.predict(novo_registro)\n",
        "resposta_svm = svm.predict(novo_registro)"
      ],
      "execution_count": null,
      "outputs": []
    },
    {
      "cell_type": "code",
      "metadata": {
        "colab": {
          "base_uri": "https://localhost:8080/"
        },
        "id": "zaeThdQiqzah",
        "outputId": "6dbe3832-9410-40fe-d453-c326cd455b2c"
      },
      "source": [
        "resposta_rede_neural[0], resposta_arvore[0], resposta_svm[0]"
      ],
      "execution_count": null,
      "outputs": [
        {
          "output_type": "execute_result",
          "data": {
            "text/plain": [
              "(1, 1, 1)"
            ]
          },
          "metadata": {},
          "execution_count": 59
        }
      ]
    },
    {
      "cell_type": "code",
      "metadata": {
        "colab": {
          "base_uri": "https://localhost:8080/"
        },
        "id": "7mz2xL8vq3qA",
        "outputId": "eeafab8f-320c-4822-fc04-5d7fed50d652"
      },
      "source": [
        "probabilidade_rede_neural = rede_neural.predict_proba(novo_registro)\n",
        "probabilidade_rede_neural"
      ],
      "execution_count": null,
      "outputs": [
        {
          "output_type": "execute_result",
          "data": {
            "text/plain": [
              "array([[5.63973018e-05, 9.99943603e-01]])"
            ]
          },
          "metadata": {},
          "execution_count": 60
        }
      ]
    },
    {
      "cell_type": "code",
      "metadata": {
        "colab": {
          "base_uri": "https://localhost:8080/"
        },
        "id": "i8JjGrANrANF",
        "outputId": "0d23e433-71ee-4af5-a7ed-5fe750cbcdcc"
      },
      "source": [
        "confianca_rede_neural = probabilidade_rede_neural.max()\n",
        "confianca_rede_neural"
      ],
      "execution_count": null,
      "outputs": [
        {
          "output_type": "execute_result",
          "data": {
            "text/plain": [
              "0.9999436026981555"
            ]
          },
          "metadata": {},
          "execution_count": 61
        }
      ]
    },
    {
      "cell_type": "code",
      "metadata": {
        "colab": {
          "base_uri": "https://localhost:8080/"
        },
        "id": "awg0hIBkrGQl",
        "outputId": "de858e0e-41bc-4520-8bf0-e14d5489e24b"
      },
      "source": [
        "probabilidade_arvore = arvore.predict_proba(novo_registro)\n",
        "confianca_arvore = probabilidade_arvore.max()\n",
        "confianca_arvore"
      ],
      "execution_count": null,
      "outputs": [
        {
          "output_type": "execute_result",
          "data": {
            "text/plain": [
              "1.0"
            ]
          },
          "metadata": {},
          "execution_count": 62
        }
      ]
    },
    {
      "cell_type": "code",
      "metadata": {
        "colab": {
          "base_uri": "https://localhost:8080/"
        },
        "id": "eTyYP0FQrLkm",
        "outputId": "11436c84-5628-47b0-9f1a-eba3c6026907"
      },
      "source": [
        "probabilidade_svm = svm.predict_proba(novo_registro)\n",
        "confianca_svm = probabilidade_svm.max()\n",
        "confianca_svm"
      ],
      "execution_count": null,
      "outputs": [
        {
          "output_type": "execute_result",
          "data": {
            "text/plain": [
              "0.9918840620014779"
            ]
          },
          "metadata": {},
          "execution_count": 63
        }
      ]
    },
    {
      "cell_type": "code",
      "metadata": {
        "colab": {
          "base_uri": "https://localhost:8080/"
        },
        "id": "ebLnSCePrRhe",
        "outputId": "af57ab5c-2ed2-4cb5-a6bd-d992eee645dc"
      },
      "source": [
        "paga = 0\n",
        "nao_paga = 0\n",
        "confianca_minima = 0.999999\n",
        "algoritmos = 0\n",
        "\n",
        "if confianca_rede_neural >= confianca_minima:\n",
        "  algoritmos += 1\n",
        "  if resposta_rede_neural[0] == 1:\n",
        "    nao_paga += 1\n",
        "  else:\n",
        "    paga += 1\n",
        "\n",
        "if confianca_arvore >= confianca_minima:\n",
        "  algoritmos += 1\n",
        "  if resposta_arvore[0] == 1:\n",
        "    nao_paga += 1\n",
        "  else:\n",
        "    paga += 1\n",
        "\n",
        "if confianca_svm >= confianca_minima:\n",
        "  algoritmos += 1\n",
        "  if resposta_svm[0] == 1:\n",
        "    nao_paga += 1\n",
        "  else:\n",
        "    paga += 1\n",
        "\n",
        "if paga > nao_paga:\n",
        "  print('Cliente pagará o empréstimo, baseado em {} algoritmos'.format(algoritmos))\n",
        "elif paga == nao_paga:\n",
        "  print('Empate, baseado em {} algoritmos'.format(algoritmos))\n",
        "else:\n",
        "  print('Cliente não pagará o empréstimo, baseado em {} algoritmos'.format(algoritmos))"
      ],
      "execution_count": null,
      "outputs": [
        {
          "output_type": "stream",
          "text": [
            "Cliente não pagará o empréstimo, baseado em 1 algoritmos\n"
          ],
          "name": "stdout"
        }
      ]
    },
    {
      "cell_type": "code",
      "metadata": {
        "id": "KbROydAWro38"
      },
      "source": [
        ""
      ],
      "execution_count": null,
      "outputs": []
    }
  ]
}